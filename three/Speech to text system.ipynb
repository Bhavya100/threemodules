{
 "cells": [
  {
   "cell_type": "code",
   "execution_count": 1,
   "id": "e8be8ab7",
   "metadata": {},
   "outputs": [],
   "source": [
    "import speech_recognition as sr"
   ]
  },
  {
   "cell_type": "code",
   "execution_count": 2,
   "id": "92d1141a",
   "metadata": {},
   "outputs": [],
   "source": [
    "a = sr.Recognizer()"
   ]
  },
  {
   "cell_type": "code",
   "execution_count": 5,
   "id": "d9826858",
   "metadata": {},
   "outputs": [
    {
     "name": "stdout",
     "output_type": "stream",
     "text": [
      "Say Something : \n",
      "You Said : how are you\n"
     ]
    }
   ],
   "source": [
    "with sr.Microphone() as source:\n",
    "    print(\"Say Something : \")\n",
    "    audio = a.listen(source)\n",
    "    try:\n",
    "        text = a.recognize_google(audio)\n",
    "        print(\"You Said : {}\".format(text))\n",
    "        \n",
    "    except:\n",
    "        print(\"Sorry could not recognize\")"
   ]
  },
  {
   "cell_type": "code",
   "execution_count": null,
   "id": "8eeea5a9",
   "metadata": {},
   "outputs": [],
   "source": []
  },
  {
   "cell_type": "code",
   "execution_count": null,
   "id": "a2d68eda",
   "metadata": {},
   "outputs": [],
   "source": []
  }
 ],
 "metadata": {
  "kernelspec": {
   "display_name": "Python 3",
   "language": "python",
   "name": "python3"
  },
  "language_info": {
   "codemirror_mode": {
    "name": "ipython",
    "version": 3
   },
   "file_extension": ".py",
   "mimetype": "text/x-python",
   "name": "python",
   "nbconvert_exporter": "python",
   "pygments_lexer": "ipython3",
   "version": "3.6.5"
  }
 },
 "nbformat": 4,
 "nbformat_minor": 5
}
